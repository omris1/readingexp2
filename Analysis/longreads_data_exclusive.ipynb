{
 "cells": [
  {
   "cell_type": "code",
   "execution_count": null,
   "metadata": {
    "collapsed": true
   },
   "outputs": [],
   "source": [
    "# curl \"https://longreads.firebaseio.com/participant_data/.json?print=pretty&auth=TbPc0mqD0pCAEeQKnFzC1trdFH27GfY6z2cKUmum\""
   ]
  },
  {
   "cell_type": "code",
   "execution_count": 1,
   "metadata": {
    "collapsed": false
   },
   "outputs": [],
   "source": [
    "import json\n",
    "import numpy as np\n",
    "import pandas as pd\n",
    "import datetime"
   ]
  },
  {
   "cell_type": "code",
   "execution_count": 2,
   "metadata": {
    "collapsed": false
   },
   "outputs": [],
   "source": [
    "with open(\"longreads2-export.json\") as json_file:\n",
    "    json_data = json.load(json_file)"
   ]
  },
  {
   "cell_type": "code",
   "execution_count": 17,
   "metadata": {
    "collapsed": false
   },
   "outputs": [],
   "source": [
    "# curr = \"45019761\"\n",
    "\n",
    "excludedParticipantIds = ['8aa4a59b']\n",
    "participantIds = [x for x in json_data.keys() if x not in excludedParticipantIds]\n",
    "participantIds = pd.Series(participantIds)\n",
    "\n",
    "# pd.Series(['ee14a4c7', 'bc07be57', '447485a8', '637a20b2', 'c9041366', '1d6d9b1a',\n",
    "#                             '76eb0f72', 'e76d1c29', '824a6ecd', '21a58161', '5eeea135', '6d48e635',\n",
    "#                             'cecbbe70', '2e9a547d', 'ef8527a9', '96234b52', '03913d38', 'ba738e46',\n",
    "#                             '9c82b7b3', '720390ad', 'c6c61167', '6f041d41', 'cad5f235', '02ed1d4a',\n",
    "#                             'e2d9e6c3', '65c55012', '6c17b273', 'b00cb7ca', '3ddb558f', '54de43e2',\n",
    "#                             '45019761'])\n",
    "\n",
    "\n"
   ]
  },
  {
   "cell_type": "code",
   "execution_count": 18,
   "metadata": {
    "collapsed": false
   },
   "outputs": [
    {
     "data": {
      "text/plain": [
       "0    8e274deb\n",
       "1    3e06a4b5\n",
       "dtype: object"
      ]
     },
     "execution_count": 18,
     "metadata": {},
     "output_type": "execute_result"
    }
   ],
   "source": [
    "participantIds"
   ]
  },
  {
   "cell_type": "code",
   "execution_count": 5,
   "metadata": {
    "collapsed": false
   },
   "outputs": [],
   "source": [
    "bad_article_url = 'http://munchies.vice.com/articles/new-research-says-vegetarian-diets-could-actually-be-worse-for-the-planet'\n",
    "def get_article_answers(article):\n",
    "    article_answers = pd.DataFrame(columns=['condition', 'corr_answer', 'participant_answer', \n",
    "                                            'is_correct', 'question_type', 'label'])\n",
    "    condition = article[\"experiment condition\"]\n",
    "    \n",
    "    if condition == \"read\":\n",
    "        condNum = 0\n",
    "    else:\n",
    "        condNum = 1\n",
    "    for i, question in enumerate(article[\"Questions\"]):\n",
    "        pAns = question[\"answer\"]\n",
    "        cAns = question[\"correct answer\"]\n",
    "        corr = False\n",
    "        if pAns == cAns:\n",
    "            corr = True\n",
    "        if (article['Url'] == bad_article_url and question['questionID'] == 1):\n",
    "            if pAns == 3:\n",
    "                corr = True\n",
    "            else:\n",
    "                corr = False\n",
    "        typeNum = 1\n",
    "        q_type = question[\"question type\"]\n",
    "        if q_type == \"read\":\n",
    "            typeNum = 0\n",
    "        lab = 'NoLabel'\n",
    "        if i % 2 == 1:\n",
    "            if corr:\n",
    "                lab = 'in-depth'\n",
    "            elif (article_answers.loc[i-1]['is_correct']):\n",
    "                lab = 'skim'\n",
    "            else:\n",
    "                lab = 'other'\n",
    "        article_answers.loc[i] = ([condNum, cAns, pAns, corr, typeNum, lab])\n",
    "    return article_answers"
   ]
  },
  {
   "cell_type": "code",
   "execution_count": null,
   "metadata": {
    "collapsed": false
   },
   "outputs": [],
   "source": []
  },
  {
   "cell_type": "code",
   "execution_count": null,
   "metadata": {
    "collapsed": false
   },
   "outputs": [],
   "source": []
  },
  {
   "cell_type": "code",
   "execution_count": null,
   "metadata": {
    "collapsed": false
   },
   "outputs": [],
   "source": []
  },
  {
   "cell_type": "code",
   "execution_count": 24,
   "metadata": {
    "collapsed": false
   },
   "outputs": [],
   "source": [
    "\n",
    "# self-reported: age, gender, strategy, ..., words per minutes, start/end time\n",
    "def get_participant_data(idx, partData):\n",
    "    qual_data_list = []\n",
    "    part_data_list = []\n",
    "    for i, article in enumerate(partData['Articles']):\n",
    "        if i < 2:\n",
    "            qual_data_list.append(get_article_answers(article))\n",
    "        else:\n",
    "            part_data_list.append(get_article_answers(article))\n",
    "    qual_data_df = pd.concat(qual_data_list)\n",
    "    total_qual_correct = qual_data_df['is_correct'].value_counts()[True]\n",
    "    part_data_df = pd.concat(part_data_list)\n",
    "    total_correct = part_data_df['is_correct'].value_counts()[True]\n",
    "\n",
    "    total_skim_correct = part_data_df[[x == 1 for x in part_data_df['question_type']]]['is_correct'].value_counts()[True]\n",
    "    total_in_depth_correct = part_data_df[[x == 0 for x in part_data_df['question_type']]]['is_correct'].value_counts()[True]\n",
    "    \n",
    "    \n",
    "    \n",
    "    \n",
    "    try:\n",
    "        total_skim_labels = part_data_df['label'].value_counts()['skim']\n",
    "    except KeyError:\n",
    "        total_skim_labels = 0\n",
    "    \n",
    "    \n",
    "    total_in_depth_labels = part_data_df['label'].value_counts()['in-depth']\n",
    "    total_other_labels = part_data_df['label'].value_counts()['other']\n",
    "    reading_sp = partData['Reading Speed (words per sec)']\n",
    "    part_gen = partData['Begin-Demographic-Questions']['Gender']\n",
    "    part_age = partData['Begin-Demographic-Questions']['Age']\n",
    "    part_edu = partData['Begin-Demographic-Questions']['Education']\n",
    "    part_disability = partData['Begin-Demographic-Questions']['Disability']\n",
    "    part_diagnosi = partData['Begin-Demographic-Questions']['Diagnosis']\n",
    "    part_assistive = partData['Demographic-Questions']['Assitive_technology']\n",
    "    part_start_time = str(datetime.datetime.fromtimestamp(partData['User Info']['exp_start_t'] / 1000.0))\n",
    "    result_df = pd.DataFrame(columns=['id', 'start_time', 'gender', 'age', 'education', 'word_per_sec', \n",
    "                                      'qual_correct', 'total_correct', 'skim_correct', 'in_depth_correct', \n",
    "                                      'skim_labels', 'in_depth_labels', 'other_labels', 'strategy'])\n",
    "    \n",
    "    \n",
    "    result_df.loc[idx] = (partData['participant_Id'], part_start_time, part_gen, part_age, part_edu, reading_sp, \n",
    "                          total_qual_correct, total_correct, total_skim_correct, total_in_depth_correct, \n",
    "                          total_skim_labels, total_in_depth_labels, total_other_labels, part_strategy)\n",
    "    return result_df"
   ]
  },
  {
   "cell_type": "code",
   "execution_count": 22,
   "metadata": {
    "collapsed": false
   },
   "outputs": [
    {
     "data": {
      "text/plain": [
       "[u'Gender',\n",
       " u'Age',\n",
       " u'Disability',\n",
       " u'Diagnosis',\n",
       " u'Education',\n",
       " u'Assitive_technology']"
      ]
     },
     "execution_count": 22,
     "metadata": {},
     "output_type": "execute_result"
    }
   ],
   "source": [
    "json_data['8aa4a59b']['Begin-Demographic-Questions'].keys()"
   ]
  },
  {
   "cell_type": "code",
   "execution_count": null,
   "metadata": {
    "collapsed": false
   },
   "outputs": [],
   "source": []
  },
  {
   "cell_type": "code",
   "execution_count": 7,
   "metadata": {
    "collapsed": false
   },
   "outputs": [],
   "source": [
    "def parse_data():\n",
    "    all_part = []\n",
    "    for i, partId in enumerate(participantIds):\n",
    "        # print i\n",
    "        # temp = get_participant_data(i, json_data[partId])\n",
    "        # print temp\n",
    "        # all_part.append(temp)\n",
    "        all_part.append(get_participant_data(i, json_data[partId]))\n",
    "    return pd.concat(all_part)"
   ]
  },
  {
   "cell_type": "code",
   "execution_count": null,
   "metadata": {
    "collapsed": false
   },
   "outputs": [],
   "source": [
    "# Fixed question issue"
   ]
  },
  {
   "cell_type": "code",
   "execution_count": 25,
   "metadata": {
    "collapsed": false
   },
   "outputs": [
    {
     "ename": "KeyError",
     "evalue": "'Assitive_technology'",
     "output_type": "error",
     "traceback": [
      "\u001b[0;31m---------------------------------------------------------------------------\u001b[0m",
      "\u001b[0;31mKeyError\u001b[0m                                  Traceback (most recent call last)",
      "\u001b[0;32m<ipython-input-25-7b0882446784>\u001b[0m in \u001b[0;36m<module>\u001b[0;34m()\u001b[0m\n\u001b[0;32m----> 1\u001b[0;31m \u001b[0mans\u001b[0m \u001b[0;34m=\u001b[0m \u001b[0mparse_data\u001b[0m\u001b[0;34m(\u001b[0m\u001b[0;34m)\u001b[0m\u001b[0;34m\u001b[0m\u001b[0m\n\u001b[0m",
      "\u001b[0;32m<ipython-input-7-fff96ebe901f>\u001b[0m in \u001b[0;36mparse_data\u001b[0;34m()\u001b[0m\n\u001b[1;32m      6\u001b[0m         \u001b[0;31m# print temp\u001b[0m\u001b[0;34m\u001b[0m\u001b[0;34m\u001b[0m\u001b[0m\n\u001b[1;32m      7\u001b[0m         \u001b[0;31m# all_part.append(temp)\u001b[0m\u001b[0;34m\u001b[0m\u001b[0;34m\u001b[0m\u001b[0m\n\u001b[0;32m----> 8\u001b[0;31m         \u001b[0mall_part\u001b[0m\u001b[0;34m.\u001b[0m\u001b[0mappend\u001b[0m\u001b[0;34m(\u001b[0m\u001b[0mget_participant_data\u001b[0m\u001b[0;34m(\u001b[0m\u001b[0mi\u001b[0m\u001b[0;34m,\u001b[0m \u001b[0mjson_data\u001b[0m\u001b[0;34m[\u001b[0m\u001b[0mpartId\u001b[0m\u001b[0;34m]\u001b[0m\u001b[0;34m)\u001b[0m\u001b[0;34m)\u001b[0m\u001b[0;34m\u001b[0m\u001b[0m\n\u001b[0m\u001b[1;32m      9\u001b[0m     \u001b[0;32mreturn\u001b[0m \u001b[0mpd\u001b[0m\u001b[0;34m.\u001b[0m\u001b[0mconcat\u001b[0m\u001b[0;34m(\u001b[0m\u001b[0mall_part\u001b[0m\u001b[0;34m)\u001b[0m\u001b[0;34m\u001b[0m\u001b[0m\n",
      "\u001b[0;32m<ipython-input-24-5cdb2327adea>\u001b[0m in \u001b[0;36mget_participant_data\u001b[0;34m(idx, partData)\u001b[0m\n\u001b[1;32m     34\u001b[0m     \u001b[0mpart_disability\u001b[0m \u001b[0;34m=\u001b[0m \u001b[0mpartData\u001b[0m\u001b[0;34m[\u001b[0m\u001b[0;34m'Begin-Demographic-Questions'\u001b[0m\u001b[0;34m]\u001b[0m\u001b[0;34m[\u001b[0m\u001b[0;34m'Disability'\u001b[0m\u001b[0;34m]\u001b[0m\u001b[0;34m\u001b[0m\u001b[0m\n\u001b[1;32m     35\u001b[0m     \u001b[0mpart_diagnosi\u001b[0m \u001b[0;34m=\u001b[0m \u001b[0mpartData\u001b[0m\u001b[0;34m[\u001b[0m\u001b[0;34m'Begin-Demographic-Questions'\u001b[0m\u001b[0;34m]\u001b[0m\u001b[0;34m[\u001b[0m\u001b[0;34m'Diagnosis'\u001b[0m\u001b[0;34m]\u001b[0m\u001b[0;34m\u001b[0m\u001b[0m\n\u001b[0;32m---> 36\u001b[0;31m     \u001b[0mpart_assistive\u001b[0m \u001b[0;34m=\u001b[0m \u001b[0mpartData\u001b[0m\u001b[0;34m[\u001b[0m\u001b[0;34m'Demographic-Questions'\u001b[0m\u001b[0;34m]\u001b[0m\u001b[0;34m[\u001b[0m\u001b[0;34m'Assitive_technology'\u001b[0m\u001b[0;34m]\u001b[0m\u001b[0;34m\u001b[0m\u001b[0m\n\u001b[0m\u001b[1;32m     37\u001b[0m     \u001b[0mpart_start_time\u001b[0m \u001b[0;34m=\u001b[0m \u001b[0mstr\u001b[0m\u001b[0;34m(\u001b[0m\u001b[0mdatetime\u001b[0m\u001b[0;34m.\u001b[0m\u001b[0mdatetime\u001b[0m\u001b[0;34m.\u001b[0m\u001b[0mfromtimestamp\u001b[0m\u001b[0;34m(\u001b[0m\u001b[0mpartData\u001b[0m\u001b[0;34m[\u001b[0m\u001b[0;34m'User Info'\u001b[0m\u001b[0;34m]\u001b[0m\u001b[0;34m[\u001b[0m\u001b[0;34m'exp_start_t'\u001b[0m\u001b[0;34m]\u001b[0m \u001b[0;34m/\u001b[0m \u001b[0;36m1000.0\u001b[0m\u001b[0;34m)\u001b[0m\u001b[0;34m)\u001b[0m\u001b[0;34m\u001b[0m\u001b[0m\n\u001b[1;32m     38\u001b[0m     result_df = pd.DataFrame(columns=['id', 'start_time', 'gender', 'age', 'education', 'word_per_sec', \n",
      "\u001b[0;31mKeyError\u001b[0m: 'Assitive_technology'"
     ]
    }
   ],
   "source": [
    "ans = parse_data()"
   ]
  },
  {
   "cell_type": "code",
   "execution_count": null,
   "metadata": {
    "collapsed": false
   },
   "outputs": [],
   "source": [
    "ans"
   ]
  },
  {
   "cell_type": "code",
   "execution_count": null,
   "metadata": {
    "collapsed": true
   },
   "outputs": [],
   "source": [
    "ans.to_csv('results.csv')"
   ]
  },
  {
   "cell_type": "code",
   "execution_count": null,
   "metadata": {
    "collapsed": true
   },
   "outputs": [],
   "source": []
  }
 ],
 "metadata": {
  "kernelspec": {
   "display_name": "Python 2",
   "language": "python",
   "name": "python2"
  },
  "language_info": {
   "codemirror_mode": {
    "name": "ipython",
    "version": 2
   },
   "file_extension": ".py",
   "mimetype": "text/x-python",
   "name": "python",
   "nbconvert_exporter": "python",
   "pygments_lexer": "ipython2",
   "version": "2.7.11"
  }
 },
 "nbformat": 4,
 "nbformat_minor": 0
}
