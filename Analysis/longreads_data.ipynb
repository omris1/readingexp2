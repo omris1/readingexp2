{
 "cells": [
  {
   "cell_type": "code",
   "execution_count": 1,
   "metadata": {
    "collapsed": true
   },
   "outputs": [],
   "source": [
    "# curl \"https://longreads.firebaseio.com/participant_data/.json?print=pretty&auth=TbPc0mqD0pCAEeQKnFzC1trdFH27GfY6z2cKUmum\""
   ]
  },
  {
   "cell_type": "code",
   "execution_count": 1,
   "metadata": {
    "collapsed": true
   },
   "outputs": [],
   "source": [
    "import json"
   ]
  },
  {
   "cell_type": "code",
   "execution_count": 2,
   "metadata": {
    "collapsed": false
   },
   "outputs": [],
   "source": [
    "with open(\"data_dump9.json\") as json_file:\n",
    "    json_data = json.load(json_file)"
   ]
  },
  {
   "cell_type": "code",
   "execution_count": 17,
   "metadata": {
    "collapsed": true
   },
   "outputs": [],
   "source": [
    "curr = \"45019761\"\n",
    "\n",
    "participantIds = [curr]\n",
    "\n",
    "# 3ddb558f\n",
    "# 54de43e2\n",
    "# 45019761\n"
   ]
  },
  {
   "cell_type": "code",
   "execution_count": 18,
   "metadata": {
    "collapsed": true
   },
   "outputs": [],
   "source": [
    "partMatrix = []"
   ]
  },
  {
   "cell_type": "code",
   "execution_count": 19,
   "metadata": {
    "collapsed": false
   },
   "outputs": [],
   "source": [
    "def parseData(matrix):\n",
    "    i = 0\n",
    "    for partId in participantIds:\n",
    "        for article in json_data[partId][\"Articles\"]:\n",
    "            condition = article[\"experiment condition\"]\n",
    "            if condition == \"read\":\n",
    "                condNum = 0\n",
    "            else:\n",
    "                condNum = 1\n",
    "            for question in article[\"Questions\"]:\n",
    "                i += 1\n",
    "                pAns = question[\"answer\"]\n",
    "                if pAns == 0:\n",
    "                    pAns = \"a\"\n",
    "                if pAns == 1:\n",
    "                    pAns = \"b\"\n",
    "                if pAns == 2:\n",
    "                    pAns = \"c\"\n",
    "                if pAns == 3:\n",
    "                    pAns = \"d\"\n",
    "                elif pAns == 4:\n",
    "                    pAns = \"e\"\n",
    "                cAns = question[\"correct answer\"]\n",
    "                if cAns == 0:\n",
    "                    cAns = \"a\"\n",
    "                if cAns == 1:\n",
    "                    cAns = \"b\"\n",
    "                if cAns == 2:\n",
    "                    cAns = \"c\"\n",
    "                if cAns == 3:\n",
    "                    cAns = \"d\"\n",
    "                elif cAns == 4:\n",
    "                    cAns = \"e\"\n",
    "                matrix.append([partId, i, condNum, cAns,pAns])\n",
    "    return matrix "
   ]
  },
  {
   "cell_type": "code",
   "execution_count": 20,
   "metadata": {
    "collapsed": false
   },
   "outputs": [],
   "source": [
    "partMatrix = parseData(partMatrix)"
   ]
  },
  {
   "cell_type": "code",
   "execution_count": 21,
   "metadata": {
    "collapsed": true
   },
   "outputs": [],
   "source": [
    "import numpy\n",
    "a = numpy.asarray(partMatrix)"
   ]
  },
  {
   "cell_type": "code",
   "execution_count": 22,
   "metadata": {
    "collapsed": false
   },
   "outputs": [
    {
     "name": "stdout",
     "output_type": "stream",
     "text": [
      "[['45019761' '1' '0' 'c' 'b']\n",
      " ['45019761' '2' '0' 'd' 'd']\n",
      " ['45019761' '3' '0' 'b' 'd']\n",
      " ['45019761' '4' '0' 'a' 'e']\n",
      " ['45019761' '5' '0' 'b' 'd']\n",
      " ['45019761' '6' '0' 'd' 'd']]\n"
     ]
    }
   ],
   "source": [
    "print(a [0:6])"
   ]
  },
  {
   "cell_type": "code",
   "execution_count": 23,
   "metadata": {
    "collapsed": true
   },
   "outputs": [],
   "source": [
    "filename = 'part_data_dump3_' + curr + '.csv'\n",
    "\n",
    "numpy.savetxt(filename, a, delimiter=\" \", fmt=\"%s\") "
   ]
  },
  {
   "cell_type": "code",
   "execution_count": null,
   "metadata": {
    "collapsed": true
   },
   "outputs": [],
   "source": []
  }
 ],
 "metadata": {
  "kernelspec": {
   "display_name": "Python 2",
   "language": "python",
   "name": "python2"
  },
  "language_info": {
   "codemirror_mode": {
    "name": "ipython",
    "version": 2
   },
   "file_extension": ".py",
   "mimetype": "text/x-python",
   "name": "python",
   "nbconvert_exporter": "python",
   "pygments_lexer": "ipython2",
   "version": "2.7.11"
  }
 },
 "nbformat": 4,
 "nbformat_minor": 0
}
